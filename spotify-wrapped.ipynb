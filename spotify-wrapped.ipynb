{
 "cells": [
  {
   "cell_type": "markdown",
   "metadata": {},
   "source": [
    "# Exploring Spotify Historical Data\n",
    "\n",
    "## Import Data"
   ]
  },
  {
   "cell_type": "code",
   "execution_count": 1,
   "metadata": {},
   "outputs": [],
   "source": [
    "import pandas as pd\n",
    "import numpy as np\n",
    "import dash\n",
    "from dash import dcc\n",
    "from dash import html\n",
    "import plotly.graph_objs as go"
   ]
  },
  {
   "cell_type": "code",
   "execution_count": 2,
   "metadata": {},
   "outputs": [],
   "source": [
    "df = pd.read_csv(\"data/spotify_history.csv\")"
   ]
  },
  {
   "cell_type": "markdown",
   "metadata": {},
   "source": [
    "## Explore Data"
   ]
  },
  {
   "cell_type": "code",
   "execution_count": 3,
   "metadata": {},
   "outputs": [
    {
     "data": {
      "text/html": [
       "<div>\n",
       "<style scoped>\n",
       "    .dataframe tbody tr th:only-of-type {\n",
       "        vertical-align: middle;\n",
       "    }\n",
       "\n",
       "    .dataframe tbody tr th {\n",
       "        vertical-align: top;\n",
       "    }\n",
       "\n",
       "    .dataframe thead th {\n",
       "        text-align: right;\n",
       "    }\n",
       "</style>\n",
       "<table border=\"1\" class=\"dataframe\">\n",
       "  <thead>\n",
       "    <tr style=\"text-align: right;\">\n",
       "      <th></th>\n",
       "      <th>spotify_track_uri</th>\n",
       "      <th>ts</th>\n",
       "      <th>platform</th>\n",
       "      <th>ms_played</th>\n",
       "      <th>track_name</th>\n",
       "      <th>artist_name</th>\n",
       "      <th>album_name</th>\n",
       "      <th>reason_start</th>\n",
       "      <th>reason_end</th>\n",
       "      <th>shuffle</th>\n",
       "      <th>skipped</th>\n",
       "    </tr>\n",
       "  </thead>\n",
       "  <tbody>\n",
       "    <tr>\n",
       "      <th>0</th>\n",
       "      <td>2J3n32GeLmMjwuAzyhcSNe</td>\n",
       "      <td>2013-07-08 02:44:34</td>\n",
       "      <td>web player</td>\n",
       "      <td>3185</td>\n",
       "      <td>Say It, Just Say It</td>\n",
       "      <td>The Mowgli's</td>\n",
       "      <td>Waiting For The Dawn</td>\n",
       "      <td>autoplay</td>\n",
       "      <td>clickrow</td>\n",
       "      <td>False</td>\n",
       "      <td>False</td>\n",
       "    </tr>\n",
       "    <tr>\n",
       "      <th>1</th>\n",
       "      <td>1oHxIPqJyvAYHy0PVrDU98</td>\n",
       "      <td>2013-07-08 02:45:37</td>\n",
       "      <td>web player</td>\n",
       "      <td>61865</td>\n",
       "      <td>Drinking from the Bottle (feat. Tinie Tempah)</td>\n",
       "      <td>Calvin Harris</td>\n",
       "      <td>18 Months</td>\n",
       "      <td>clickrow</td>\n",
       "      <td>clickrow</td>\n",
       "      <td>False</td>\n",
       "      <td>False</td>\n",
       "    </tr>\n",
       "    <tr>\n",
       "      <th>2</th>\n",
       "      <td>487OPlneJNni3NWC8SYqhW</td>\n",
       "      <td>2013-07-08 02:50:24</td>\n",
       "      <td>web player</td>\n",
       "      <td>285386</td>\n",
       "      <td>Born To Die</td>\n",
       "      <td>Lana Del Rey</td>\n",
       "      <td>Born To Die - The Paradise Edition</td>\n",
       "      <td>clickrow</td>\n",
       "      <td>unknown</td>\n",
       "      <td>False</td>\n",
       "      <td>False</td>\n",
       "    </tr>\n",
       "    <tr>\n",
       "      <th>3</th>\n",
       "      <td>5IyblF777jLZj1vGHG2UD3</td>\n",
       "      <td>2013-07-08 02:52:40</td>\n",
       "      <td>web player</td>\n",
       "      <td>134022</td>\n",
       "      <td>Off To The Races</td>\n",
       "      <td>Lana Del Rey</td>\n",
       "      <td>Born To Die - The Paradise Edition</td>\n",
       "      <td>trackdone</td>\n",
       "      <td>clickrow</td>\n",
       "      <td>False</td>\n",
       "      <td>False</td>\n",
       "    </tr>\n",
       "    <tr>\n",
       "      <th>4</th>\n",
       "      <td>0GgAAB0ZMllFhbNc3mAodO</td>\n",
       "      <td>2013-07-08 03:17:52</td>\n",
       "      <td>web player</td>\n",
       "      <td>0</td>\n",
       "      <td>Half Mast</td>\n",
       "      <td>Empire Of The Sun</td>\n",
       "      <td>Walking On A Dream</td>\n",
       "      <td>clickrow</td>\n",
       "      <td>nextbtn</td>\n",
       "      <td>False</td>\n",
       "      <td>False</td>\n",
       "    </tr>\n",
       "  </tbody>\n",
       "</table>\n",
       "</div>"
      ],
      "text/plain": [
       "        spotify_track_uri                   ts    platform  ms_played  \\\n",
       "0  2J3n32GeLmMjwuAzyhcSNe  2013-07-08 02:44:34  web player       3185   \n",
       "1  1oHxIPqJyvAYHy0PVrDU98  2013-07-08 02:45:37  web player      61865   \n",
       "2  487OPlneJNni3NWC8SYqhW  2013-07-08 02:50:24  web player     285386   \n",
       "3  5IyblF777jLZj1vGHG2UD3  2013-07-08 02:52:40  web player     134022   \n",
       "4  0GgAAB0ZMllFhbNc3mAodO  2013-07-08 03:17:52  web player          0   \n",
       "\n",
       "                                      track_name        artist_name  \\\n",
       "0                            Say It, Just Say It       The Mowgli's   \n",
       "1  Drinking from the Bottle (feat. Tinie Tempah)      Calvin Harris   \n",
       "2                                    Born To Die       Lana Del Rey   \n",
       "3                               Off To The Races       Lana Del Rey   \n",
       "4                                      Half Mast  Empire Of The Sun   \n",
       "\n",
       "                           album_name reason_start reason_end  shuffle  \\\n",
       "0                Waiting For The Dawn     autoplay   clickrow    False   \n",
       "1                           18 Months     clickrow   clickrow    False   \n",
       "2  Born To Die - The Paradise Edition     clickrow    unknown    False   \n",
       "3  Born To Die - The Paradise Edition    trackdone   clickrow    False   \n",
       "4                  Walking On A Dream     clickrow    nextbtn    False   \n",
       "\n",
       "   skipped  \n",
       "0    False  \n",
       "1    False  \n",
       "2    False  \n",
       "3    False  \n",
       "4    False  "
      ]
     },
     "execution_count": 3,
     "metadata": {},
     "output_type": "execute_result"
    }
   ],
   "source": [
    "df.head()"
   ]
  },
  {
   "cell_type": "markdown",
   "metadata": {},
   "source": [
    "### Check for any missing rows"
   ]
  },
  {
   "cell_type": "code",
   "execution_count": 4,
   "metadata": {},
   "outputs": [
    {
     "data": {
      "text/plain": [
       "spotify_track_uri      0\n",
       "ts                     0\n",
       "platform               0\n",
       "ms_played              0\n",
       "track_name             0\n",
       "artist_name            0\n",
       "album_name             0\n",
       "reason_start         143\n",
       "reason_end           117\n",
       "shuffle                0\n",
       "skipped                0\n",
       "dtype: int64"
      ]
     },
     "execution_count": 4,
     "metadata": {},
     "output_type": "execute_result"
    }
   ],
   "source": [
    "df.isnull().sum()"
   ]
  },
  {
   "cell_type": "markdown",
   "metadata": {},
   "source": [
    "## Time-based Analysis"
   ]
  },
  {
   "cell_type": "markdown",
   "metadata": {},
   "source": [
    "### Total Streaming Hours"
   ]
  },
  {
   "cell_type": "code",
   "execution_count": 5,
   "metadata": {},
   "outputs": [
    {
     "name": "stdout",
     "output_type": "stream",
     "text": [
      "5341.536370833333\n"
     ]
    }
   ],
   "source": [
    "total_ms_played = df[\"ms_played\"].sum()\n",
    "total_hours_played = total_ms_played / (1000 * 60 * 60)\n",
    "print(total_hours_played)"
   ]
  },
  {
   "cell_type": "markdown",
   "metadata": {},
   "source": [
    "### Processing the `ts` column to get `hours`, `day_of_week`, `year` etc"
   ]
  },
  {
   "cell_type": "code",
   "execution_count": 6,
   "metadata": {},
   "outputs": [],
   "source": [
    "df['ts'] = pd.to_datetime(df['ts'])\n",
    "df['hour'] = df['ts'].dt.hour\n",
    "df['day_of_week'] = df['ts'].dt.dayofweek\n",
    "df['year'] = df['ts'].dt.year"
   ]
  },
  {
   "cell_type": "markdown",
   "metadata": {},
   "source": [
    "### Check the data modification"
   ]
  },
  {
   "cell_type": "code",
   "execution_count": 7,
   "metadata": {},
   "outputs": [
    {
     "data": {
      "text/html": [
       "<div>\n",
       "<style scoped>\n",
       "    .dataframe tbody tr th:only-of-type {\n",
       "        vertical-align: middle;\n",
       "    }\n",
       "\n",
       "    .dataframe tbody tr th {\n",
       "        vertical-align: top;\n",
       "    }\n",
       "\n",
       "    .dataframe thead th {\n",
       "        text-align: right;\n",
       "    }\n",
       "</style>\n",
       "<table border=\"1\" class=\"dataframe\">\n",
       "  <thead>\n",
       "    <tr style=\"text-align: right;\">\n",
       "      <th></th>\n",
       "      <th>spotify_track_uri</th>\n",
       "      <th>ts</th>\n",
       "      <th>platform</th>\n",
       "      <th>ms_played</th>\n",
       "      <th>track_name</th>\n",
       "      <th>artist_name</th>\n",
       "      <th>album_name</th>\n",
       "      <th>reason_start</th>\n",
       "      <th>reason_end</th>\n",
       "      <th>shuffle</th>\n",
       "      <th>skipped</th>\n",
       "      <th>hour</th>\n",
       "      <th>day_of_week</th>\n",
       "      <th>year</th>\n",
       "    </tr>\n",
       "  </thead>\n",
       "  <tbody>\n",
       "    <tr>\n",
       "      <th>0</th>\n",
       "      <td>2J3n32GeLmMjwuAzyhcSNe</td>\n",
       "      <td>2013-07-08 02:44:34</td>\n",
       "      <td>web player</td>\n",
       "      <td>3185</td>\n",
       "      <td>Say It, Just Say It</td>\n",
       "      <td>The Mowgli's</td>\n",
       "      <td>Waiting For The Dawn</td>\n",
       "      <td>autoplay</td>\n",
       "      <td>clickrow</td>\n",
       "      <td>False</td>\n",
       "      <td>False</td>\n",
       "      <td>2</td>\n",
       "      <td>0</td>\n",
       "      <td>2013</td>\n",
       "    </tr>\n",
       "    <tr>\n",
       "      <th>1</th>\n",
       "      <td>1oHxIPqJyvAYHy0PVrDU98</td>\n",
       "      <td>2013-07-08 02:45:37</td>\n",
       "      <td>web player</td>\n",
       "      <td>61865</td>\n",
       "      <td>Drinking from the Bottle (feat. Tinie Tempah)</td>\n",
       "      <td>Calvin Harris</td>\n",
       "      <td>18 Months</td>\n",
       "      <td>clickrow</td>\n",
       "      <td>clickrow</td>\n",
       "      <td>False</td>\n",
       "      <td>False</td>\n",
       "      <td>2</td>\n",
       "      <td>0</td>\n",
       "      <td>2013</td>\n",
       "    </tr>\n",
       "    <tr>\n",
       "      <th>2</th>\n",
       "      <td>487OPlneJNni3NWC8SYqhW</td>\n",
       "      <td>2013-07-08 02:50:24</td>\n",
       "      <td>web player</td>\n",
       "      <td>285386</td>\n",
       "      <td>Born To Die</td>\n",
       "      <td>Lana Del Rey</td>\n",
       "      <td>Born To Die - The Paradise Edition</td>\n",
       "      <td>clickrow</td>\n",
       "      <td>unknown</td>\n",
       "      <td>False</td>\n",
       "      <td>False</td>\n",
       "      <td>2</td>\n",
       "      <td>0</td>\n",
       "      <td>2013</td>\n",
       "    </tr>\n",
       "    <tr>\n",
       "      <th>3</th>\n",
       "      <td>5IyblF777jLZj1vGHG2UD3</td>\n",
       "      <td>2013-07-08 02:52:40</td>\n",
       "      <td>web player</td>\n",
       "      <td>134022</td>\n",
       "      <td>Off To The Races</td>\n",
       "      <td>Lana Del Rey</td>\n",
       "      <td>Born To Die - The Paradise Edition</td>\n",
       "      <td>trackdone</td>\n",
       "      <td>clickrow</td>\n",
       "      <td>False</td>\n",
       "      <td>False</td>\n",
       "      <td>2</td>\n",
       "      <td>0</td>\n",
       "      <td>2013</td>\n",
       "    </tr>\n",
       "    <tr>\n",
       "      <th>4</th>\n",
       "      <td>0GgAAB0ZMllFhbNc3mAodO</td>\n",
       "      <td>2013-07-08 03:17:52</td>\n",
       "      <td>web player</td>\n",
       "      <td>0</td>\n",
       "      <td>Half Mast</td>\n",
       "      <td>Empire Of The Sun</td>\n",
       "      <td>Walking On A Dream</td>\n",
       "      <td>clickrow</td>\n",
       "      <td>nextbtn</td>\n",
       "      <td>False</td>\n",
       "      <td>False</td>\n",
       "      <td>3</td>\n",
       "      <td>0</td>\n",
       "      <td>2013</td>\n",
       "    </tr>\n",
       "  </tbody>\n",
       "</table>\n",
       "</div>"
      ],
      "text/plain": [
       "        spotify_track_uri                  ts    platform  ms_played  \\\n",
       "0  2J3n32GeLmMjwuAzyhcSNe 2013-07-08 02:44:34  web player       3185   \n",
       "1  1oHxIPqJyvAYHy0PVrDU98 2013-07-08 02:45:37  web player      61865   \n",
       "2  487OPlneJNni3NWC8SYqhW 2013-07-08 02:50:24  web player     285386   \n",
       "3  5IyblF777jLZj1vGHG2UD3 2013-07-08 02:52:40  web player     134022   \n",
       "4  0GgAAB0ZMllFhbNc3mAodO 2013-07-08 03:17:52  web player          0   \n",
       "\n",
       "                                      track_name        artist_name  \\\n",
       "0                            Say It, Just Say It       The Mowgli's   \n",
       "1  Drinking from the Bottle (feat. Tinie Tempah)      Calvin Harris   \n",
       "2                                    Born To Die       Lana Del Rey   \n",
       "3                               Off To The Races       Lana Del Rey   \n",
       "4                                      Half Mast  Empire Of The Sun   \n",
       "\n",
       "                           album_name reason_start reason_end  shuffle  \\\n",
       "0                Waiting For The Dawn     autoplay   clickrow    False   \n",
       "1                           18 Months     clickrow   clickrow    False   \n",
       "2  Born To Die - The Paradise Edition     clickrow    unknown    False   \n",
       "3  Born To Die - The Paradise Edition    trackdone   clickrow    False   \n",
       "4                  Walking On A Dream     clickrow    nextbtn    False   \n",
       "\n",
       "   skipped  hour  day_of_week  year  \n",
       "0    False     2            0  2013  \n",
       "1    False     2            0  2013  \n",
       "2    False     2            0  2013  \n",
       "3    False     2            0  2013  \n",
       "4    False     3            0  2013  "
      ]
     },
     "execution_count": 7,
     "metadata": {},
     "output_type": "execute_result"
    }
   ],
   "source": [
    "df.head()"
   ]
  },
  {
   "cell_type": "markdown",
   "metadata": {},
   "source": [
    "## Artist and Track Analysis"
   ]
  },
  {
   "cell_type": "markdown",
   "metadata": {},
   "source": [
    "### Total hours played per day (group by day of the week)"
   ]
  },
  {
   "cell_type": "code",
   "execution_count": 8,
   "metadata": {},
   "outputs": [
    {
     "name": "stdout",
     "output_type": "stream",
     "text": [
      "day_of_week\n",
      "Monday       765.724104\n",
      "Tuesday      774.739106\n",
      "Wednesday    818.849362\n",
      "Thursday     793.402961\n",
      "Friday       883.301667\n",
      "Saturday     650.671343\n",
      "Sunday       654.847829\n",
      "Name: ms_played, dtype: float64\n"
     ]
    }
   ],
   "source": [
    "hours_per_day = df.groupby('day_of_week')['ms_played'].sum() / (1000 * 60 * 60)\n",
    "\n",
    "# Optionally, map day_of_week to actual weekday names\n",
    "hours_per_day.index = hours_per_day.index.map({\n",
    "    0: 'Monday', 1: 'Tuesday', 2: 'Wednesday', 3: 'Thursday',\n",
    "    4: 'Friday', 5: 'Saturday', 6: 'Sunday'\n",
    "})\n",
    "\n",
    "# Display the result\n",
    "print(hours_per_day)\n"
   ]
  },
  {
   "cell_type": "markdown",
   "metadata": {},
   "source": [
    "### Total hours played per week"
   ]
  },
  {
   "cell_type": "code",
   "execution_count": 9,
   "metadata": {},
   "outputs": [
    {
     "name": "stdout",
     "output_type": "stream",
     "text": [
      "year  week\n",
      "2013  28       449\n",
      "      31       829\n",
      "      33         3\n",
      "      36       584\n",
      "      38        10\n",
      "              ... \n",
      "2024  46      3097\n",
      "      47      2744\n",
      "      48      6423\n",
      "      49       408\n",
      "      50      1077\n",
      "Name: hour, Length: 483, dtype: int32\n"
     ]
    }
   ],
   "source": [
    "df['week'] = df['ts'].dt.isocalendar().week\n",
    "\n",
    "hours_per_week = df.groupby(['year', 'week'])['hour'].sum()\n",
    "\n",
    "print(hours_per_week)\n"
   ]
  },
  {
   "cell_type": "markdown",
   "metadata": {},
   "source": [
    "### Song Streaming Activity Based on Time"
   ]
  },
  {
   "cell_type": "code",
   "execution_count": 10,
   "metadata": {},
   "outputs": [
    {
     "name": "stdout",
     "output_type": "stream",
     "text": [
      "    hour  total_songs\n",
      "0      0        10884\n",
      "1      1         9395\n",
      "2      2         9029\n",
      "3      3         8550\n",
      "4      4         6355\n",
      "5      5         7164\n",
      "6      6         7369\n",
      "7      7         4412\n",
      "8      8         2312\n",
      "9      9         1695\n",
      "10    10         1207\n",
      "11    11          903\n",
      "12    12          724\n",
      "13    13         1658\n",
      "14    14         2759\n",
      "15    15         3725\n",
      "16    16         6737\n",
      "17    17         9194\n",
      "18    18         8945\n",
      "19    19         8165\n",
      "20    20        10494\n",
      "21    21         8953\n",
      "22    22         8715\n",
      "23    23        10516\n"
     ]
    }
   ],
   "source": [
    "tracks_per_hour = df.groupby('hour').size().reset_index(name='total_songs')\n",
    "print(tracks_per_hour)"
   ]
  },
  {
   "cell_type": "code",
   "execution_count": 11,
   "metadata": {},
   "outputs": [
    {
     "name": "stdout",
     "output_type": "stream",
     "text": [
      "   formatted_hour  total_songs\n",
      "22       12:00 AM        10884\n",
      "0        01:00 AM         9395\n",
      "2        02:00 AM         9029\n",
      "4        03:00 AM         8550\n",
      "6        04:00 AM         6355\n",
      "8        05:00 AM         7164\n",
      "10       06:00 AM         7369\n",
      "12       07:00 AM         4412\n",
      "14       08:00 AM         2312\n",
      "16       09:00 AM         1695\n",
      "18       10:00 AM         1207\n",
      "20       11:00 AM          903\n",
      "23       12:00 PM          724\n",
      "1        01:00 PM         1658\n",
      "3        02:00 PM         2759\n",
      "5        03:00 PM         3725\n",
      "7        04:00 PM         6737\n",
      "9        05:00 PM         9194\n",
      "11       06:00 PM         8945\n",
      "13       07:00 PM         8165\n",
      "15       08:00 PM        10494\n",
      "17       09:00 PM         8953\n",
      "19       10:00 PM         8715\n",
      "21       11:00 PM        10516\n"
     ]
    }
   ],
   "source": [
    "# Create a new column for the formatted hour (12-hour format with AM/PM)\n",
    "df['formatted_hour'] = df['hour'].apply(lambda x: pd.to_datetime(f'{x}:00', format='%H:%M').strftime('%I:%M %p'))\n",
    "\n",
    "# Group by formatted hour and count the number of tracks played in each hour\n",
    "tracks_per_hour = df.groupby('formatted_hour').size().reset_index(name='total_songs')\n",
    "\n",
    "# Sort the formatted_hour to ensure AM comes first, then PM\n",
    "tracks_per_hour['hour_num'] = tracks_per_hour['formatted_hour'].apply(lambda x: pd.to_datetime(x, format='%I:%M %p'))\n",
    "\n",
    "# Sort the data based on the 12-hour time format\n",
    "tracks_per_hour = tracks_per_hour.sort_values('hour_num')\n",
    "\n",
    "# Drop the 'hour_num' column as it's no longer needed\n",
    "tracks_per_hour = tracks_per_hour.drop(columns=['hour_num'])\n",
    "\n",
    "# Display the result\n",
    "print(tracks_per_hour)"
   ]
  },
  {
   "cell_type": "markdown",
   "metadata": {},
   "source": [
    "### Songs KPI"
   ]
  },
  {
   "cell_type": "markdown",
   "metadata": {},
   "source": [
    "**Total Songs played**"
   ]
  },
  {
   "cell_type": "code",
   "execution_count": 12,
   "metadata": {},
   "outputs": [
    {
     "name": "stdout",
     "output_type": "stream",
     "text": [
      "149860\n"
     ]
    }
   ],
   "source": [
    "# total_song = df['track_name'].count()\n",
    "total_song = df['spotify_track_uri'].count()\n",
    "print(total_song)"
   ]
  },
  {
   "cell_type": "markdown",
   "metadata": {},
   "source": [
    "**Total Unique Songs Played**"
   ]
  },
  {
   "cell_type": "code",
   "execution_count": null,
   "metadata": {},
   "outputs": [
    {
     "name": "stdout",
     "output_type": "stream",
     "text": [
      "13839\n"
     ]
    }
   ],
   "source": [
    "total_unique_song = df['track_name'].nunique()\n",
    "print(total_unique_song)"
   ]
  },
  {
   "cell_type": "markdown",
   "metadata": {},
   "source": [
    "**Total Plays Per Song**"
   ]
  },
  {
   "cell_type": "code",
   "execution_count": 14,
   "metadata": {},
   "outputs": [
    {
     "name": "stdout",
     "output_type": "stream",
     "text": [
      "                              track_name  play_count\n",
      "8406                     Ode To The Mets         207\n",
      "5767                        In the Blood         181\n",
      "3136                         Dying Breed         166\n",
      "1937                             Caution         164\n",
      "82     19 Dias y 500 Noches - En Directo         148\n",
      "3933                 For What It's Worth         146\n",
      "550      All These Things That I've Done         142\n",
      "2286                  Concerning Hobbits         142\n",
      "2235     Come Together - Remastered 2009         137\n",
      "11447                          The Boxer         135\n"
     ]
    }
   ],
   "source": [
    "# Count how many times each song was played\n",
    "song_play_counts = df.groupby('track_name').size().reset_index(name='play_count')\n",
    "\n",
    "# Sort by play_count in descending order\n",
    "song_play_counts = song_play_counts.sort_values(by='play_count', ascending=False)\n",
    "\n",
    "# Display the top 10 most played songs\n",
    "print(song_play_counts.head(10))"
   ]
  },
  {
   "cell_type": "markdown",
   "metadata": {},
   "source": [
    "### Most Played Songs"
   ]
  },
  {
   "cell_type": "code",
   "execution_count": 15,
   "metadata": {},
   "outputs": [
    {
     "name": "stdout",
     "output_type": "stream",
     "text": [
      "track_name\n",
      "Ode To The Mets                                                                        18.730994\n",
      "The Return of the King (feat. Sir James Galway, Viggo Mortensen and Renee Fleming)     17.889350\n",
      "The Fellowship Reunited (feat. Sir James Galway, Viggo Mortensen and Renée Fleming)    12.432425\n",
      "19 Dias y 500 Noches - En Directo                                                      11.920567\n",
      "In the Blood                                                                           10.674191\n",
      "Claudia's Theme - Version Eight                                                        10.311361\n",
      "Dying Breed                                                                            10.050737\n",
      "The Breaking of the Fellowship (feat. \"In Dreams\")                                      9.997472\n",
      "All These Things That I've Done                                                         9.931921\n",
      "Caution                                                                                 9.894429\n",
      "Name: ms_played, dtype: float64\n"
     ]
    }
   ],
   "source": [
    "most_played_tracks = df.groupby('track_name')['ms_played'].sum().sort_values(ascending=False)\n",
    "\n",
    "# Select top 10 most played tracks\n",
    "top_10_tracks = most_played_tracks.head(10)\n",
    "\n",
    "# Convert ms_played to hours for better readability\n",
    "top_10_tracks_hours = top_10_tracks / (1000 * 60 * 60)\n",
    "\n",
    "print(top_10_tracks_hours)"
   ]
  },
  {
   "cell_type": "markdown",
   "metadata": {},
   "source": [
    "### Artist KPI"
   ]
  },
  {
   "cell_type": "markdown",
   "metadata": {},
   "source": [
    "**Total Artists**"
   ]
  },
  {
   "cell_type": "code",
   "execution_count": 16,
   "metadata": {},
   "outputs": [
    {
     "name": "stdout",
     "output_type": "stream",
     "text": [
      "4113\n"
     ]
    }
   ],
   "source": [
    "total_artists = df['artist_name'].nunique()\n",
    "print(total_artists)"
   ]
  },
  {
   "cell_type": "markdown",
   "metadata": {},
   "source": [
    "**Total Plays Per Artist**"
   ]
  },
  {
   "cell_type": "code",
   "execution_count": null,
   "metadata": {},
   "outputs": [
    {
     "name": "stdout",
     "output_type": "stream",
     "text": [
      "             artist_name  play_count\n",
      "3500         The Beatles       13621\n",
      "3602         The Killers        6878\n",
      "1773          John Mayer        4855\n",
      "465            Bob Dylan        3814\n",
      "2858      Paul McCartney        2697\n",
      "2093        Led Zeppelin        2482\n",
      "1788         Johnny Cash        2478\n",
      "3684  The Rolling Stones        2390\n",
      "3003           Radiohead        2305\n",
      "3503      The Black Keys        2231\n"
     ]
    }
   ],
   "source": [
    "artist_play_counts = df.groupby('artist_name').size().reset_index(name='play_count')\n",
    "\n",
    "artist_play_counts = artist_play_counts.sort_values(by='play_count', ascending=False)\n",
    "\n",
    "print(artist_play_counts.head(10))"
   ]
  },
  {
   "cell_type": "markdown",
   "metadata": {},
   "source": [
    "### Most Played Artists"
   ]
  },
  {
   "cell_type": "code",
   "execution_count": null,
   "metadata": {},
   "outputs": [
    {
     "name": "stdout",
     "output_type": "stream",
     "text": [
      "artist_name\n",
      "The Beatles           336.162376\n",
      "The Killers           294.321254\n",
      "John Mayer            201.449845\n",
      "Bob Dylan             158.182332\n",
      "Paul McCartney         99.265103\n",
      "Howard Shore           96.925188\n",
      "The Strokes            88.196783\n",
      "The Rolling Stones     85.532503\n",
      "Pink Floyd             72.369956\n",
      "Led Zeppelin           68.982855\n",
      "Name: ms_played, dtype: float64\n"
     ]
    }
   ],
   "source": [
    "most_played_artist = df.groupby('artist_name')['ms_played'].sum().sort_values(ascending=False)\n",
    "\n",
    "# Select top 10 most played tracks\n",
    "top_10_artist = most_played_artist.head(10)\n",
    "\n",
    "# Convert ms_played to hours for better readability\n",
    "top_10_artist_hours = top_10_artist / (1000 * 60 * 60)\n",
    "\n",
    "print(top_10_artist_hours)"
   ]
  },
  {
   "cell_type": "markdown",
   "metadata": {},
   "source": [
    "## Platform Analysis"
   ]
  },
  {
   "cell_type": "markdown",
   "metadata": {},
   "source": [
    "### Platform Usage"
   ]
  },
  {
   "cell_type": "code",
   "execution_count": 19,
   "metadata": {},
   "outputs": [
    {
     "name": "stdout",
     "output_type": "stream",
     "text": [
      "platform\n",
      "android           139821\n",
      "cast to device      3898\n",
      "iOS                 3049\n",
      "windows             1691\n",
      "mac                 1176\n",
      "web player           225\n",
      "Name: count, dtype: int64\n"
     ]
    }
   ],
   "source": [
    "platform_used = df['platform'].value_counts()\n",
    "print(platform_used)"
   ]
  },
  {
   "cell_type": "markdown",
   "metadata": {},
   "source": [
    "### Play Duration by Platform"
   ]
  },
  {
   "cell_type": "code",
   "execution_count": 20,
   "metadata": {},
   "outputs": [
    {
     "name": "stdout",
     "output_type": "stream",
     "text": [
      "platform\n",
      "android           4857.998661\n",
      "cast to device     201.937833\n",
      "iOS                139.708636\n",
      "mac                 69.974708\n",
      "web player           6.982257\n",
      "windows             64.934275\n",
      "Name: ms_played, dtype: float64\n"
     ]
    }
   ],
   "source": [
    "stream_duration_per_platform = df.groupby('platform')['ms_played'].sum() / (1000 * 60 * 60)\n",
    "print(stream_duration_per_platform)"
   ]
  },
  {
   "cell_type": "markdown",
   "metadata": {},
   "source": [
    "## Song Skipping Behavior"
   ]
  },
  {
   "cell_type": "markdown",
   "metadata": {},
   "source": [
    "### Skipping Rate"
   ]
  },
  {
   "cell_type": "code",
   "execution_count": 21,
   "metadata": {},
   "outputs": [
    {
     "name": "stdout",
     "output_type": "stream",
     "text": [
      "skipped\n",
      "False    0.947491\n",
      "True     0.052509\n",
      "Name: proportion, dtype: float64\n"
     ]
    }
   ],
   "source": [
    "skipped_rate = df['skipped'].value_counts(normalize=True)\n",
    "print(skipped_rate)"
   ]
  },
  {
   "cell_type": "markdown",
   "metadata": {},
   "source": [
    "### Skipping by Artist/Track"
   ]
  },
  {
   "cell_type": "code",
   "execution_count": null,
   "metadata": {},
   "outputs": [
    {
     "name": "stdout",
     "output_type": "stream",
     "text": [
      "artist_name\n",
      "& Friends             1\n",
      "24 Carat Black        1\n",
      "2Pac                  3\n",
      "3 Doors Down          1\n",
      "4 Non Blondes         1\n",
      "                     ..\n",
      "gnash                 1\n",
      "iLoveMemphis          2\n",
      "jame minogue          2\n",
      "Örjan Hultén Orion    1\n",
      "ゼロ戦                   1\n",
      "Length: 1207, dtype: int64\n"
     ]
    }
   ],
   "source": [
    "song_skip_by_artist = df[df['skipped'] == True].groupby('artist_name').size()\n",
    "print(song_skip_by_artist)"
   ]
  },
  {
   "cell_type": "code",
   "execution_count": null,
   "metadata": {},
   "outputs": [
    {
     "name": "stdout",
     "output_type": "stream",
     "text": [
      "track_name\n",
      "\"Hit the Quan\" #HTQ                                                                     2\n",
      "#SELFIE                                                                                 1\n",
      "'O sole mio (Arr. Chiaramello)                                                          5\n",
      "'Round Midnight (feat. John Coltrane, Red Garland, Paul Chambers & Philly Joe Jones)    2\n",
      "(I Can't Get No) Satisfaction - Live At University Of Leeds / 1971                      1\n",
      "                                                                                       ..\n",
      "Échame a Mi La Culpa                                                                    2\n",
      "Óleo de Mujer Con Sombrero                                                              5\n",
      "❤️                                                                                      3\n",
      "こんな優しい雨の日は                                                                              2\n",
      "クール・ヘッド                                                                                 1\n",
      "Length: 3919, dtype: int64\n"
     ]
    }
   ],
   "source": [
    "song_skip_by_track = df[df['skipped'] == True].groupby('track_name').size()\n",
    "print(song_skip_by_track)"
   ]
  },
  {
   "cell_type": "markdown",
   "metadata": {},
   "source": [
    "## Shuffle Mode Analysis"
   ]
  },
  {
   "cell_type": "markdown",
   "metadata": {},
   "source": [
    "### Shuffle Usage"
   ]
  },
  {
   "cell_type": "code",
   "execution_count": 24,
   "metadata": {},
   "outputs": [
    {
     "name": "stdout",
     "output_type": "stream",
     "text": [
      "shuffle\n",
      "True     0.744582\n",
      "False    0.255418\n",
      "Name: proportion, dtype: float64\n"
     ]
    }
   ],
   "source": [
    "shuffled = df['shuffle'].value_counts(normalize=True)\n",
    "print(shuffled)"
   ]
  },
  {
   "cell_type": "markdown",
   "metadata": {},
   "source": [
    "### Shuffle and Skips\n",
    "Check if shuffle mode is related to skipping tracks."
   ]
  },
  {
   "cell_type": "code",
   "execution_count": 25,
   "metadata": {},
   "outputs": [
    {
     "name": "stdout",
     "output_type": "stream",
     "text": [
      "shuffle\n",
      "False    0.043237\n",
      "True     0.055689\n",
      "Name: skipped, dtype: float64\n"
     ]
    }
   ],
   "source": [
    "shuffle_skip_relation =  df.groupby('shuffle')['skipped'].mean()\n",
    "print(shuffle_skip_relation)"
   ]
  },
  {
   "cell_type": "markdown",
   "metadata": {},
   "source": [
    "## Track End Reason Analysis"
   ]
  },
  {
   "cell_type": "markdown",
   "metadata": {},
   "source": [
    "### Reasons for Track End"
   ]
  },
  {
   "cell_type": "code",
   "execution_count": 26,
   "metadata": {},
   "outputs": [
    {
     "name": "stdout",
     "output_type": "stream",
     "text": [
      "reason_end\n",
      "trackdone                       77194\n",
      "fwdbtn                          53470\n",
      "endplay                         10119\n",
      "logout                           4367\n",
      "backbtn                          2182\n",
      "unexpected-exit-while-paused     1725\n",
      "unknown                           268\n",
      "remote                            224\n",
      "unexpected-exit                   118\n",
      "clickrow                           34\n",
      "nextbtn                            21\n",
      "appload                             7\n",
      "popup                               6\n",
      "reload                              4\n",
      "trackerror                          4\n",
      "Name: count, dtype: int64\n"
     ]
    }
   ],
   "source": [
    "end_reasons = df['reason_end'].value_counts()\n",
    "print(end_reasons)"
   ]
  },
  {
   "cell_type": "markdown",
   "metadata": {},
   "source": [
    "## Playlist or Album Analysis"
   ]
  },
  {
   "cell_type": "markdown",
   "metadata": {},
   "source": [
    "### Album KPI"
   ]
  },
  {
   "cell_type": "markdown",
   "metadata": {},
   "source": [
    "**Total Albums**"
   ]
  },
  {
   "cell_type": "code",
   "execution_count": null,
   "metadata": {},
   "outputs": [
    {
     "name": "stdout",
     "output_type": "stream",
     "text": [
      "7948\n"
     ]
    }
   ],
   "source": [
    "total_albums = df['album_name'].nunique()\n",
    "print(total_albums)"
   ]
  },
  {
   "cell_type": "markdown",
   "metadata": {},
   "source": [
    "**Total Plays Per Album:**"
   ]
  },
  {
   "cell_type": "code",
   "execution_count": 28,
   "metadata": {},
   "outputs": [
    {
     "name": "stdout",
     "output_type": "stream",
     "text": [
      "                                 album_name  play_count\n",
      "6447                            The Beatles        2063\n",
      "4981                           Past Masters        1672\n",
      "293                              Abbey Road        1429\n",
      "6926                               The Wall        1241\n",
      "5421                               Revolver        1038\n",
      "2948                                  Help!         979\n",
      "640                        At Folsom Prison         918\n",
      "5745  Sgt. Pepper's Lonely Hearts Club Band         910\n",
      "2299                   Exile On Main Street         892\n",
      "3086                               Hot Fuss         878\n"
     ]
    }
   ],
   "source": [
    "album_play_counts = df.groupby('album_name').size().reset_index(name='play_count')\n",
    "\n",
    "album_play_counts = album_play_counts.sort_values(by='play_count', ascending=False)\n",
    "\n",
    "print(album_play_counts.head(10))"
   ]
  },
  {
   "cell_type": "markdown",
   "metadata": {},
   "source": [
    "### Popular Albums"
   ]
  },
  {
   "cell_type": "code",
   "execution_count": 29,
   "metadata": {},
   "outputs": [
    {
     "name": "stdout",
     "output_type": "stream",
     "text": [
      "album_name\n",
      "The New Abnormal                                      51.877193\n",
      "The Beatles                                           51.847027\n",
      "Imploding The Mirage                                  44.423156\n",
      "Abbey Road                                            41.283419\n",
      "Blood On The Tracks                                   41.080285\n",
      "Past Masters                                          40.284466\n",
      "Hot Fuss                                              40.124312\n",
      "The Wall                                              39.250503\n",
      "Where the Light Is: John Mayer Live In Los Angeles    31.615000\n",
      "Pressure Machine                                      31.479001\n",
      "Name: ms_played, dtype: float64\n"
     ]
    }
   ],
   "source": [
    "most_played_album = df.groupby('album_name')['ms_played'].sum().sort_values(ascending=False) / (1000 * 60 * 60)\n",
    "most_played_album = most_played_album.head(10)\n",
    "print(most_played_album)"
   ]
  },
  {
   "cell_type": "markdown",
   "metadata": {},
   "source": [
    "### Top Tracks per Album"
   ]
  },
  {
   "cell_type": "code",
   "execution_count": 30,
   "metadata": {},
   "outputs": [
    {
     "name": "stdout",
     "output_type": "stream",
     "text": [
      "album_name                                                                              track_name                                                                         \n",
      "The New Abnormal                                                                        Ode To The Mets                                                                        18.730994\n",
      "The Lord of the Rings: The Return of the King                                           The Return of the King (feat. Sir James Galway, Viggo Mortensen and Renee Fleming)     17.889350\n",
      "The Lord of the Rings - The Return of the King - The Complete Recordings                The Fellowship Reunited (feat. Sir James Galway, Viggo Mortensen and Renée Fleming)    12.432425\n",
      "Nos Sobran Los Motivos                                                                  19 Dias y 500 Noches - En Directo                                                      11.920567\n",
      "The Search for Everything                                                               In the Blood                                                                           10.674191\n",
      "The Lord of the Rings: The Fellowship of the Ring (Original Motion Picture Soundtrack)  The Breaking of the Fellowship (feat. \"In Dreams\")                                      9.997472\n",
      "Hot Fuss                                                                                All These Things That I've Done                                                         9.931921\n",
      "Unforgiven - Original Motion Picture Soundtrack                                         Claudia's Theme - Version Eight                                                         9.836547\n",
      "The Lord of the Rings: The Fellowship of the Ring - the Complete Recordings             The Road Goes Ever On..., Pt. 1                                                         9.787883\n",
      "La La Land                                                                              Epilogue                                                                                9.071951\n",
      "Name: ms_played, dtype: float64\n"
     ]
    }
   ],
   "source": [
    "top_track_per_album = df.groupby(['album_name', 'track_name'])['ms_played'].sum().sort_values(ascending=False) / (1000 * 60 * 60)\n",
    "print(top_track_per_album.head(10))"
   ]
  },
  {
   "cell_type": "markdown",
   "metadata": {},
   "source": [
    "## Correlation Analysis"
   ]
  },
  {
   "cell_type": "markdown",
   "metadata": {},
   "source": [
    "### Correlation between Variables\n",
    "Explore if there is any relationship between variables such as `ms_played`, `shuffle`, and `skipped`."
   ]
  },
  {
   "cell_type": "code",
   "execution_count": 31,
   "metadata": {},
   "outputs": [
    {
     "name": "stdout",
     "output_type": "stream",
     "text": [
      "           ms_played   shuffle   skipped\n",
      "ms_played   1.000000 -0.182784 -0.193644\n",
      "shuffle    -0.182784  1.000000  0.024345\n",
      "skipped    -0.193644  0.024345  1.000000\n"
     ]
    }
   ],
   "source": [
    "df['shuffle'] = df['shuffle'].map({True: 1, False: 0})  # Convert boolean to numeric for correlation\n",
    "df['skipped'] = df['skipped'].map({True: 1, False: 0})\n",
    "correlation_matrix = df[['ms_played', 'shuffle', 'skipped']].corr()\n",
    "print(correlation_matrix)"
   ]
  },
  {
   "cell_type": "code",
   "execution_count": 32,
   "metadata": {},
   "outputs": [
    {
     "name": "stdout",
     "output_type": "stream",
     "text": [
      "                  ms_played   shuffle   skipped  platform_encoded  \\\n",
      "ms_played          1.000000 -0.182784 -0.193644          0.068586   \n",
      "shuffle           -0.182784  1.000000  0.024345         -0.132003   \n",
      "skipped           -0.193644  0.024345  1.000000          0.036606   \n",
      "platform_encoded   0.068586 -0.132003  0.036606          1.000000   \n",
      "day_of_week       -0.021893  0.090852  0.013710         -0.060523   \n",
      "hour               0.048194 -0.099407 -0.043566          0.015535   \n",
      "\n",
      "                  day_of_week      hour  \n",
      "ms_played           -0.021893  0.048194  \n",
      "shuffle              0.090852 -0.099407  \n",
      "skipped              0.013710 -0.043566  \n",
      "platform_encoded    -0.060523  0.015535  \n",
      "day_of_week          1.000000 -0.055261  \n",
      "hour                -0.055261  1.000000  \n"
     ]
    }
   ],
   "source": [
    "# Convert categorical variables (e.g., platform) to numeric if necessary (using one-hot encoding or label encoding)\n",
    "df['platform_encoded'] = df['platform'].astype('category').cat.codes  # Example: encoding platform\n",
    "\n",
    "# If you want to include 'day_of_week' or 'hour', you can use these directly\n",
    "correlation_matrix = df[['ms_played', 'shuffle', 'skipped', 'platform_encoded', 'day_of_week', 'hour']].corr()\n",
    "\n",
    "print(correlation_matrix)\n"
   ]
  },
  {
   "cell_type": "markdown",
   "metadata": {},
   "source": [
    "## Visualizing the Data Using Plotly and Dash\n",
    "\n",
    "After running the below code, open this link **http://127.0.0.1:8050/** on a web browser to view the dashboard."
   ]
  },
  {
   "cell_type": "code",
   "execution_count": 33,
   "metadata": {},
   "outputs": [
    {
     "data": {
      "text/html": [
       "\n",
       "        <iframe\n",
       "            width=\"100%\"\n",
       "            height=\"650\"\n",
       "            src=\"http://127.0.0.1:8050/\"\n",
       "            frameborder=\"0\"\n",
       "            allowfullscreen\n",
       "            \n",
       "        ></iframe>\n",
       "        "
      ],
      "text/plain": [
       "<IPython.lib.display.IFrame at 0x7c348d3c9a90>"
      ]
     },
     "metadata": {},
     "output_type": "display_data"
    }
   ],
   "source": [
    "# Initialize Dash app\n",
    "app = dash.Dash(__name__)\n",
    "\n",
    "# Layout of the Dash App\n",
    "app.layout = html.Div([\n",
    "    # KPI Cards Row\n",
    "    html.Div(\n",
    "        children=[\n",
    "            # Total Stream Hours KPI Card\n",
    "            html.Div(\n",
    "                children=[\n",
    "                    html.Img(\n",
    "                        src=\"https://storage.googleapis.com/pr-newsroom-wp/1/2023/05/Spotify_Primary_Logo_RGB_Green.png\",  # URL of the image (you can replace it with your image URL)\n",
    "                        style={'width': '50px', 'height': '50px', 'marginRight': '15px'}  # Style the image (adjust size)\n",
    "                    ),\n",
    "                    html.H1(\"Spotify Wrapped\")\n",
    "                ],\n",
    "                style={'backgroundColor': '#191414', 'color': 'white', 'padding': '5px', 'borderRadius': '10px', 'width': '31%', 'textAlign': 'center', 'display': 'flex', 'alignItems': 'center', 'justifyContent': 'center', 'boxShadow': '0px 4px 6px rgba(0, 0, 0, 0.1)', 'margin': '10px'}\n",
    "            ),\n",
    "            \n",
    "            # Total Stream Hours KPI Card\n",
    "            html.Div(\n",
    "                children=[\n",
    "                    html.H3(f\"{total_hours_played:.2f} hours\"),\n",
    "                    html.P(\"Streaming Time\")\n",
    "                ],\n",
    "                style={'backgroundColor': '#191414', 'color': 'white', 'padding': '5px', 'borderRadius': '10px', 'width': '15%', 'textAlign': 'center', 'boxShadow': '0px 4px 6px rgba(0, 0, 0, 0.1)', 'margin': '10px'}\n",
    "            ),\n",
    "            \n",
    "            # Total Songs KPI Card\n",
    "            html.Div(\n",
    "                children=[\n",
    "                    html.H3(f\"{total_song} songs\"),\n",
    "                    html.P(\"Songs Played\")\n",
    "                ],\n",
    "                style={'backgroundColor': '#191414', 'color': 'white', 'padding': '5px', 'borderRadius': '10px', 'width': '15%', 'textAlign': 'center', 'boxShadow': '0px 4px 6px rgba(0, 0, 0, 0.1)', 'margin': '10px'}\n",
    "            ),\n",
    "            \n",
    "            # Total Artists KPI Card\n",
    "            html.Div(\n",
    "                children=[\n",
    "                    html.H3(f\"{total_artists} artists\"),\n",
    "                    html.P(\"Artists\")\n",
    "                ],\n",
    "                style={'backgroundColor': '#191414', 'color': 'white', 'padding': '5px', 'borderRadius': '10px', 'width': '15%', 'textAlign': 'center', 'boxShadow': '0px 4px 6px rgba(0, 0, 0, 0.1)', 'margin': '10px'}\n",
    "            ),\n",
    "            \n",
    "            # Total Albums KPI Card\n",
    "            html.Div(\n",
    "                children=[\n",
    "                    html.H3(f\"{total_albums} albums\"),\n",
    "                    html.P(\"Albums\")\n",
    "                ],\n",
    "                style={'backgroundColor': '#191414', 'color': 'white', 'padding': '5px', 'borderRadius': '10px', 'width': '15%', 'textAlign': 'center', 'boxShadow': '0px 4px 6px rgba(0, 0, 0, 0.1)', 'margin': '10px'}\n",
    "            ),\n",
    "        ],\n",
    "        style={'display': 'flex', 'justify-content': 'space-between', 'flex-wrap': 'wrap', 'marginBottom': '30px'}  # Flex layout for KPI cards\n",
    "    ),\n",
    "\n",
    "    # First Row (3 Visuals)\n",
    "    html.Div(\n",
    "        children=[\n",
    "            # Line Chart: Total Plays by Hour\n",
    "            dcc.Graph(\n",
    "                id='total-plays-hour',\n",
    "                figure={\n",
    "                    'data': [\n",
    "                        go.Scatter(\n",
    "                            x=tracks_per_hour['formatted_hour'],\n",
    "                            y=tracks_per_hour['total_songs'],\n",
    "                            mode='lines+markers',\n",
    "                            name='Total Songs',\n",
    "                            text=tracks_per_hour['total_songs'],\n",
    "                            textposition='top center',\n",
    "                            line=dict(color='#1DB954'),  # Spotify Green\n",
    "                            marker=dict(size=8, color='#1ED760')  # Spotify Light Green\n",
    "                        )\n",
    "                    ],\n",
    "                    'layout': go.Layout(\n",
    "                        title='Streaming Activity by Hours',\n",
    "                        xaxis={'title': 'Hour of Day'},\n",
    "                        yaxis={'title': 'Total Songs'},\n",
    "                        showlegend=False,\n",
    "                        plot_bgcolor='#191414',\n",
    "                        paper_bgcolor='#191414',\n",
    "                        font=dict(color='white')\n",
    "                    )\n",
    "                },\n",
    "                style={'width': '32%', 'display': 'inline-block', 'marginBottom': '30px', 'borderRadius': '10px'}  # Width adjusted for three visuals per row and border-radius\n",
    "            ),\n",
    "\n",
    "            # Bar Chart: Total Plays by Artist\n",
    "            dcc.Graph(\n",
    "                id='total-plays-artist',\n",
    "                figure={\n",
    "                    'data': [\n",
    "                        go.Bar(\n",
    "                            x=top_10_artist_hours.index,\n",
    "                            y=top_10_artist_hours,\n",
    "                            name='Total Plays by Artist',\n",
    "                            hovertext=[f'{artist}<br>{hours:.2f} hours' for artist, hours in zip(top_10_artist_hours.index, top_10_artist_hours)],\n",
    "                            hoverinfo='text',\n",
    "                            textposition='auto',\n",
    "                            marker=dict(color='#1DB954')  # Spotify Green\n",
    "                        )\n",
    "                    ],\n",
    "                    'layout': go.Layout(\n",
    "                        title='Top Played Artists',\n",
    "                        xaxis={'title': 'Artist Name', 'tickangle': 45},\n",
    "                        yaxis={'title': 'Hours'},\n",
    "                        showlegend=False,\n",
    "                        plot_bgcolor='#191414',\n",
    "                        paper_bgcolor='#191414',\n",
    "                        font=dict(color='white')\n",
    "                    )\n",
    "                },\n",
    "                style={'width': '32%', 'display': 'inline-block', 'marginBottom': '30px', 'borderRadius': '10px'}\n",
    "            ),\n",
    "\n",
    "            # New Visual: Platform Usage (Pie Chart)\n",
    "            dcc.Graph(\n",
    "                id='platform-usage',\n",
    "                figure={\n",
    "                    'data': [\n",
    "                        go.Pie(\n",
    "                            labels=['Mobile', 'Web', 'Desktop'],\n",
    "                            values=platform_used.values,  # Assume platform_usage is a DataFrame or series with percentage values\n",
    "                            hole=0.3,\n",
    "                            textinfo='percent+label',\n",
    "                            marker=dict(colors=['#1DB954', '#1ED760', '#B3B3B3'])  # Spotify Green, Light Green, and Grey\n",
    "                        )\n",
    "                    ],\n",
    "                    'layout': go.Layout(\n",
    "                        title='Platform Usage',\n",
    "                        showlegend=True,\n",
    "                        plot_bgcolor='#191414',\n",
    "                        paper_bgcolor='#191414',\n",
    "                        font=dict(color='white')\n",
    "                    )\n",
    "                },\n",
    "                style={'width': '32%', 'display': 'inline-block', 'marginBottom': '30px', 'borderRadius': '10px'}  # Adjust size for three visuals in the row\n",
    "            ),\n",
    "        ],\n",
    "        style={'display': 'flex', 'justify-content': 'space-between', 'flex-wrap': 'wrap', 'marginBottom': '30px'}  # Flex layout\n",
    "    ),\n",
    "\n",
    "    # Second Row (3 Visuals)\n",
    "    html.Div(\n",
    "        children=[\n",
    "            # Bar Chart: Total Plays by Track\n",
    "            dcc.Graph(\n",
    "                id='total-plays-track',\n",
    "                figure={\n",
    "                    'data': [\n",
    "                        go.Bar(\n",
    "                            x=top_10_tracks_hours.index,\n",
    "                            y=top_10_tracks_hours,\n",
    "                            name='Total Plays by Track',\n",
    "                            hovertext=[f'{track}<br>{hours:.2f} hours' for track, hours in zip(top_10_tracks_hours.index, top_10_tracks_hours)],\n",
    "                            hoverinfo='text',\n",
    "                            textposition='auto',\n",
    "                            marker=dict(color='#1ED760')  # Spotify Light Green\n",
    "                        )\n",
    "                    ],\n",
    "                    'layout': go.Layout(\n",
    "                        title='Top Played Tracks',\n",
    "                        xaxis={'title': 'Track Name', 'tickangle': 45},\n",
    "                        yaxis={'title': 'Hour'},\n",
    "                        showlegend=False,\n",
    "                        plot_bgcolor='#191414',\n",
    "                        paper_bgcolor='#191414',\n",
    "                        font=dict(color='white')\n",
    "                    )\n",
    "                },\n",
    "                style={'width': '32%', 'display': 'inline-block', 'marginBottom': '30px', 'borderRadius': '10px'}\n",
    "            ),\n",
    "\n",
    "            # Line Chart: Total Plays by Day of Week\n",
    "            dcc.Graph(\n",
    "                id='total-plays-day',\n",
    "                figure={\n",
    "                    'data': [\n",
    "                        go.Scatter(\n",
    "                            x=hours_per_day.index,\n",
    "                            y=hours_per_day,\n",
    "                            mode='lines+markers',\n",
    "                            name='Total Plays by Day of Week',\n",
    "                            text=hours_per_day,\n",
    "                            textposition='top center',\n",
    "                            line=dict(color='#1DB954'),\n",
    "                            marker=dict(size=8, color='#1ED760')\n",
    "                        )\n",
    "                    ],\n",
    "                    'layout': go.Layout(\n",
    "                        title='Streaming Activity by Day',\n",
    "                        xaxis={'title': 'Day of the Week'},\n",
    "                        yaxis={'title': 'Hours'},\n",
    "                        showlegend=False,\n",
    "                        plot_bgcolor='#191414',\n",
    "                        paper_bgcolor='#191414',\n",
    "                        font=dict(color='white')\n",
    "                    )\n",
    "                },\n",
    "                style={'width': '32%', 'display': 'inline-block', 'marginBottom': '30px', 'borderRadius': '10px'}\n",
    "            ),\n",
    "\n",
    "            # Pie Chart: Skipped Rate\n",
    "            dcc.Graph(\n",
    "                id='skipped-rate',\n",
    "                figure={\n",
    "                    'data': [\n",
    "                        go.Pie(\n",
    "                            labels=['Skipped', 'Not Skipped'],\n",
    "                            values=skipped_rate.values * 100,\n",
    "                            hole=0.3,\n",
    "                            textinfo='percent+label',\n",
    "                            marker=dict(colors=['#FF6347', '#90EE90'])  # Red for skipped, green for not skipped\n",
    "                        )\n",
    "                    ],\n",
    "                    'layout': go.Layout(\n",
    "                        title='Skipped Rate',\n",
    "                        showlegend=True,\n",
    "                        plot_bgcolor='#191414',\n",
    "                        paper_bgcolor='#191414',\n",
    "                        font=dict(color='white')\n",
    "                    )\n",
    "                },\n",
    "                style={'width': '32%', 'display': 'inline-block', 'marginBottom': '30px', 'borderRadius': '10px'}\n",
    "            ),\n",
    "        ],\n",
    "        style={'display': 'flex', 'justify-content': 'space-between', 'flex-wrap': 'wrap', 'marginBottom': '30px'}\n",
    "    ),\n",
    "\n",
    "    # Third Row (2 Visuals)\n",
    "    html.Div(\n",
    "        children=[\n",
    "            # Bar Chart: End Reasons\n",
    "            dcc.Graph(\n",
    "                id='end-reasons',\n",
    "                figure={\n",
    "                    'data': [\n",
    "                        go.Bar(\n",
    "                            x=end_reasons.index,\n",
    "                            y=end_reasons.values,\n",
    "                            name='End Reasons',\n",
    "                            text=end_reasons.values,\n",
    "                            textposition='auto',\n",
    "                            marker=dict(color='#1ED760')  # Spotify Light Green\n",
    "                        )\n",
    "                    ],\n",
    "                    'layout': go.Layout(\n",
    "                        title='End Reasons for Streams',\n",
    "                        xaxis={'title': 'Reason'},\n",
    "                        yaxis={'title': 'Count'},\n",
    "                        showlegend=False,\n",
    "                        plot_bgcolor='#191414',\n",
    "                        paper_bgcolor='#191414',\n",
    "                        font=dict(color='white')\n",
    "                    )\n",
    "                },\n",
    "                style={'width': '48%', 'display': 'inline-block', 'marginBottom': '30px', 'borderRadius': '10px'}\n",
    "            ),\n",
    "\n",
    "            # Bar Chart: Top Albums\n",
    "            dcc.Graph(\n",
    "                id='top-albums',\n",
    "                figure={\n",
    "                    'data': [\n",
    "                        go.Bar(\n",
    "                            x=most_played_album.index,\n",
    "                            y=most_played_album,\n",
    "                            name='Top Albums',\n",
    "                            hovertext=[f'{album}<br>{plays:.2f} hours' for album, plays in zip(most_played_album.index, most_played_album)],\n",
    "                            hoverinfo='text',\n",
    "                            textposition='auto',\n",
    "                            marker=dict(color='#1DB954')  # Spotify Green\n",
    "                        )\n",
    "                    ],\n",
    "                    'layout': go.Layout(\n",
    "                        title='Top Played Albums',\n",
    "                        xaxis={'title': 'Album Name', 'tickangle': 45},\n",
    "                        yaxis={'title': 'Hours Played'},\n",
    "                        showlegend=False,\n",
    "                        plot_bgcolor='#191414',\n",
    "                        paper_bgcolor='#191414',\n",
    "                        font=dict(color='white')\n",
    "                    )\n",
    "                },\n",
    "                style={'width': '48%', 'display': 'inline-block', 'marginBottom': '30px', 'borderRadius': '10px'}\n",
    "            ),\n",
    "        ],\n",
    "        style={'display': 'flex', 'justify-content': 'space-between', 'flex-wrap': 'wrap', 'marginBottom': '30px'}\n",
    "    ),\n",
    "])\n",
    "\n",
    "# Run the Dash app\n",
    "if __name__ == '__main__':\n",
    "    app.run_server(debug=True)"
   ]
  }
 ],
 "metadata": {
  "kernelspec": {
   "display_name": ".venv",
   "language": "python",
   "name": "python3"
  },
  "language_info": {
   "codemirror_mode": {
    "name": "ipython",
    "version": 3
   },
   "file_extension": ".py",
   "mimetype": "text/x-python",
   "name": "python",
   "nbconvert_exporter": "python",
   "pygments_lexer": "ipython3",
   "version": "3.12.3"
  }
 },
 "nbformat": 4,
 "nbformat_minor": 2
}
